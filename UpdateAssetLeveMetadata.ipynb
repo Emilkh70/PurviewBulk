{
    "metadata": {
        "kernelspec": {
            "name": "python3",
            "display_name": "Python 3 (ipykernel)",
            "language": "python"
        },
        "language_info": {
            "name": "python",
            "version": "3.9.0",
            "mimetype": "text/x-python",
            "codemirror_mode": {
                "name": "ipython",
                "version": 3
            },
            "pygments_lexer": "ipython3",
            "nbconvert_exporter": "python",
            "file_extension": ".py"
        },
        "extensions": {
            "azuredatastudio": {
                "version": 1,
                "views": []
            }
        }
    },
    "nbformat_minor": 2,
    "nbformat": 4,
    "cells": [
        {
            "cell_type": "markdown",
            "source": [
                "**Run Setup**"
            ],
            "metadata": {
                "azdata_cell_guid": "d32217a1-4553-445d-813e-5c22981058cd"
            },
            "attachments": {}
        },
        {
            "cell_type": "code",
            "source": [
                "%run ./Setup.ipynb"
            ],
            "metadata": {
                "azdata_cell_guid": "9a76fe21-5f1d-48fb-b404-a4d7737fccf7",
                "language": "python"
            },
            "outputs": [],
            "execution_count": 14
        },
        {
            "cell_type": "markdown",
            "source": [
                "**<mark>Provide the CSV file name that contains metadata to be updated</mark>**"
            ],
            "metadata": {
                "azdata_cell_guid": "af0aac20-f28a-4532-b6e6-5afae0a7257a"
            },
            "attachments": {}
        },
        {
            "cell_type": "code",
            "source": [
                "#This file can be generated from Extract Purview Asset notebok and populated manually for description, BG terms, classification\r\n",
                "#This file should be at the root of the working folder\r\n",
                "#ExtractedAssetCSVFileName = 'yourfilename_details_purview_assets.csv' \r\n",
                "ExtractedAssetCSVFileName = 'yourfilename_details_purview_assets.csv'"
            ],
            "metadata": {
                "azdata_cell_guid": "ac770b48-7f14-416d-881e-12579a32cbc4",
                "tags": [],
                "language": "python"
            },
            "outputs": [],
            "execution_count": 15
        },
        {
            "cell_type": "markdown",
            "source": [
                "**Read into a dataframe and start process**"
            ],
            "metadata": {
                "azdata_cell_guid": "b9f1c9be-7ad3-44fc-bbae-292e1f26b442"
            },
            "attachments": {}
        },
        {
            "cell_type": "code",
            "source": [
                "ExtractedAssetCSVFullPath = os.path.join(root_working_folder, ExtractedAssetCSVFileName) \r\n",
                "dfUpdates = pd.read_csv(ExtractedAssetCSVFullPath, sep=',', delimiter=None, header='infer', index_col=0)"
            ],
            "metadata": {
                "azdata_cell_guid": "57bee78e-08d6-459d-b341-133097e5612a",
                "tags": [],
                "language": "python"
            },
            "outputs": [],
            "execution_count": 16
        },
        {
            "cell_type": "code",
            "source": [
                "update_paylod_folder_name = update_paylod_folder_name_template.format(os.getenv('PURVIEW_NAME'))\r\n",
                "update_paylod_folder_fullpath = os.path.join(root_working_folder, update_paylod_folder_name)\r\n",
                "\r\n",
                "if os.path.exists(update_paylod_folder_fullpath):\r\n",
                "    shutil.rmtree(update_paylod_folder_fullpath, ignore_errors=False)\r\n",
                "\r\n",
                "os.mkdir(update_paylod_folder_fullpath)"
            ],
            "metadata": {
                "azdata_cell_guid": "bb02f67d-c979-41e6-b03a-8b0abd951640",
                "language": "python"
            },
            "outputs": [],
            "execution_count": 17
        },
        {
            "cell_type": "code",
            "source": [
                "import numpy as np\r\n",
                "\r\n",
                "asset_dic = {}\r\n",
                "bg_dic = {}\r\n",
                "cls_dic = {}\r\n",
                "\r\n",
                "for index, row in dfUpdates.iterrows(): \r\n",
                "    thisName = row['name']\r\n",
                "    thisQualifiedName = row['qualifiedName']\r\n",
                "    thisClassification = row['classification']\r\n",
                "    thisDescription = row['description']\r\n",
                "    thisEntityType = row['entityType']\r\n",
                "    thisAssetType = row['assetType']\r\n",
                "    thisTerm = row['term']\r\n",
                "    \r\n",
                "    if pd.isna(row['id']):\r\n",
                "        assetcnt, dfID = searchPurviewAssets(keyword=thisQualifiedName, recursive_read=False)\r\n",
                "        if assetcnt==1:\r\n",
                "            thisID = dfID.loc[0]['id']\r\n",
                "        else: \r\n",
                "            print('Asset with name {0} could not be found'.format(thisQualifiedName))\r\n",
                "            thisID = -1\r\n",
                "    else:\r\n",
                "        thisID = row['id']   \r\n",
                "\r\n",
                "    asset_dic[thisID] = thisDescription\r\n",
                "\r\n",
                "    #search for BG terms and extract asset guid for them\r\n",
                "    if not pd.isna(row['term']):\r\n",
                "        termList = row['term'].strip().split(separator_char)\r\n",
                "        for term in termList:\r\n",
                "            if term not in bg_dic:\r\n",
                "                bg_dic[term] = []\r\n",
                "            bg_dic[term].extend([thisID])\r\n",
                "\r\n",
                "    #search for Classifications and extract asset guid for them\r\n",
                "    if not pd.isna(row['classification']):\r\n",
                "        classificationList = row['classification'].strip().split(separator_char)\r\n",
                "        for classification in classificationList:\r\n",
                "            if classification not in cls_dic:\r\n",
                "                cls_dic[classification] = []\r\n",
                "            cls_dic[classification].extend([thisID])\r\n",
                ""
            ],
            "metadata": {
                "azdata_cell_guid": "be6ddd66-0114-4ee6-a68a-83a98abc21a1",
                "tags": [],
                "language": "python"
            },
            "outputs": [],
            "execution_count": 18
        },
        {
            "cell_type": "markdown",
            "source": [
                "**Generate the script and payload files for asset description update**"
            ],
            "metadata": {
                "azdata_cell_guid": "e71611f3-56ae-49c9-9e1c-56e15aed692b"
            },
            "attachments": {}
        },
        {
            "cell_type": "code",
            "source": [
                "#asset_update_cli_template = \"pv entity put --guid \\\"{0}\\\" --name \\\"description\\\" --payload-file \\\"{1}\\\"\"\r\n",
                "asset_update_cli_template = \"pv entity put --guid \\\"{0}\\\" --attrName=\\\"description\\\" --attrValue=\\\"{1}\\\"\""
            ],
            "metadata": {
                "azdata_cell_guid": "318ec9f2-3987-411d-a588-cbf7ff652517",
                "language": "python"
            },
            "outputs": [],
            "execution_count": 19
        },
        {
            "cell_type": "code",
            "source": [
                "try:\r\n",
                "    desc_update_script_file = os.path.join(update_paylod_folder_fullpath, os.getenv('PURVIEW_NAME')+\"_asset_desciption_update.ps1_\" )\r\n",
                "    scriptfile = open(desc_update_script_file, \"w\") \r\n",
                "    scriptfile.writelines(\"$env:PURVIEW_NAME='{0}'\".format(os.getenv('PURVIEW_NAME')))\r\n",
                "    scriptfile.write(\"\\n\")\r\n",
                "    scriptfile.writelines(\"$env:AZURE_CLIENT_ID='{0}'\".format(os.getenv('AZURE_CLIENT_ID')))\r\n",
                "    scriptfile.write(\"\\n\")\r\n",
                "    scriptfile.writelines(\"$env:AZURE_TENANT_ID='{0}'\".format(os.getenv('AZURE_TENANT_ID')))\r\n",
                "    scriptfile.write(\"\\n\")\r\n",
                "    scriptfile.writelines(\"$env:AZURE_CLIENT_SECRET='{0}'\".format(\"your client secret\"))\r\n",
                "    scriptfile.write(\"\\n\")\r\n",
                "    scriptfile.write(\"\\n\")\r\n",
                "\r\n",
                "    for assetId, desc in asset_dic.items():\r\n",
                "        if pd.isna(desc):\r\n",
                "            continue;\r\n",
                "\r\n",
                "        if assetId == -1:\r\n",
                "            scriptfile.write(\"\\n\")\r\n",
                "            scriptfile.writelines(\"#asset id could not be found -- skipping updating '{0}' description\".format(desc))\r\n",
                "            scriptfile.write(\"\\n\")\r\n",
                "        else:\r\n",
                "            desc_update_file = os.path.join(update_paylod_folder_fullpath, assetId + \"_desc.json\")\r\n",
                "            # try:\r\n",
                "            #     file = open(desc_update_file, 'w',encoding='utf-8') \r\n",
                "            #     file.writelines(\"\\\"{0}\\\"\".format(desc)) \r\n",
                "            # finally:\r\n",
                "            #     file.close() \r\n",
                "            \r\n",
                "            scriptfile.write(\"\\n\")\r\n",
                "            #scriptfile.writelines(asset_update_cli_template.format(assetId, desc_update_file))\r\n",
                "            scriptfile.writelines(asset_update_cli_template.format(assetId, desc))\r\n",
                "            scriptfile.write(\"\\n\")\r\n",
                "finally:\r\n",
                "    scriptfile.close()"
            ],
            "metadata": {
                "azdata_cell_guid": "7c164a54-fa19-4bed-a543-2a07883a8a61",
                "tags": [],
                "language": "python"
            },
            "outputs": [],
            "execution_count": 20
        },
        {
            "cell_type": "markdown",
            "source": [
                "**Generate the script and payload files for asset term association**"
            ],
            "metadata": {
                "azdata_cell_guid": "550c4bea-2bb0-46c2-8ec9-88f51f2fd2e8"
            },
            "attachments": {}
        },
        {
            "cell_type": "code",
            "source": [
                "term_assignment_cli_template = \"pv glossary createTermsAssignedEntities --termGuid \\\"{0}\\\" --payloadFile \\\"{1}\\\"\""
            ],
            "metadata": {
                "azdata_cell_guid": "ec97459b-eeee-4f5e-b4f1-6f010b354a03",
                "language": "python"
            },
            "outputs": [],
            "execution_count": 21
        },
        {
            "cell_type": "code",
            "source": [
                "try:\r\n",
                "    bg_update_script_file = os.path.join(update_paylod_folder_fullpath, os.getenv('PURVIEW_NAME')+\"_asset_term_association.ps1_\" )\r\n",
                "    scriptfile = open(bg_update_script_file, \"w\") \r\n",
                "    scriptfile.writelines(\"$env:PURVIEW_NAME='{0}'\".format(os.getenv('PURVIEW_NAME')))\r\n",
                "    scriptfile.write(\"\\n\")\r\n",
                "    scriptfile.writelines(\"$env:AZURE_CLIENT_ID='{0}'\".format(os.getenv('AZURE_CLIENT_ID')))\r\n",
                "    scriptfile.write(\"\\n\")\r\n",
                "    scriptfile.writelines(\"$env:AZURE_TENANT_ID='{0}'\".format(os.getenv('AZURE_TENANT_ID')))\r\n",
                "    scriptfile.write(\"\\n\")\r\n",
                "    scriptfile.writelines(\"$env:AZURE_CLIENT_SECRET='{0}'\".format(\"your client secret\"))\r\n",
                "    scriptfile.write(\"\\n\")\r\n",
                "    scriptfile.write(\"\\n\")\r\n",
                "\r\n",
                "    for term, assetsList in bg_dic.items():\r\n",
                "            thisTermId = formalNameToGuid(term)\r\n",
                "            if thisTermId=='':\r\n",
                "                scriptfile.write(\"\\n\")\r\n",
                "                scriptfile.writelines(\"#A unique term id could not be found -- skipping assignment for '{0}' term\".format(term))\r\n",
                "                scriptfile.write(\"\\n\")\r\n",
                "                continue\r\n",
                "\r\n",
                "            term_update_file = os.path.join(update_paylod_folder_fullpath, thisTermId + \"_assignment.json\")\r\n",
                "            json_obj = []\r\n",
                "            for assignmentAsset in assetsList:\r\n",
                "                json_obj.append({'guid' : '{0}'.format(assignmentAsset)})\r\n",
                "                with open(term_update_file,'w',encoding='utf-8') as jsonFile:\r\n",
                "                    json.dump(json_obj, jsonFile)\r\n",
                "\r\n",
                "            scriptfile.write(\"\\n\")\r\n",
                "            scriptfile.writelines(\"# Updating term assignment: {0}\".format(term))\r\n",
                "            scriptfile.write(\"\\n\")\r\n",
                "            scriptfile.writelines(term_assignment_cli_template.format(thisTermId, term_update_file))\r\n",
                "            scriptfile.write(\"\\n\")\r\n",
                "finally:\r\n",
                "    scriptfile.close()"
            ],
            "metadata": {
                "azdata_cell_guid": "1323ce56-228e-4772-995b-20f5cbfd6351",
                "language": "python"
            },
            "outputs": [],
            "execution_count": 22
        },
        {
            "cell_type": "code",
            "source": [
                "classification_assignment_cli_template = \"pv entity createClassifications --guid=\\\"{0}\\\" --payloadFile=\\\"{1}\\\"\""
            ],
            "metadata": {
                "language": "python",
                "azdata_cell_guid": "f3962a37-bbf6-44db-8e1b-c61931d5de58"
            },
            "outputs": [],
            "execution_count": 23
        },
        {
            "cell_type": "code",
            "source": [
                "try:\r\n",
                "    classification_update_script_file = os.path.join(update_paylod_folder_fullpath, os.getenv('PURVIEW_NAME')+\"_asset_classification_association.ps1_\" )\r\n",
                "    scriptfile = open(classification_update_script_file, \"w\") \r\n",
                "    scriptfile.writelines(\"$env:PURVIEW_NAME='{0}'\".format(os.getenv('PURVIEW_NAME')))\r\n",
                "    scriptfile.write(\"\\n\")\r\n",
                "    scriptfile.writelines(\"$env:AZURE_CLIENT_ID='{0}'\".format(os.getenv('AZURE_CLIENT_ID')))\r\n",
                "    scriptfile.write(\"\\n\")\r\n",
                "    scriptfile.writelines(\"$env:AZURE_TENANT_ID='{0}'\".format(os.getenv('AZURE_TENANT_ID')))\r\n",
                "    scriptfile.write(\"\\n\")\r\n",
                "    scriptfile.writelines(\"$env:AZURE_CLIENT_SECRET='{0}'\".format(\"your client secret\"))\r\n",
                "    scriptfile.write(\"\\n\")\r\n",
                "    scriptfile.write(\"\\n\")\r\n",
                "    scriptfile.write(\"# Errors might be due to the fact that a classification already exists on the asset. You can safely ignore these type of errors.\")\r\n",
                "    scriptfile.write(\"\\n\")    \r\n",
                "    scriptfile.write(\"\\n\")\r\n",
                "\r\n",
                "    for classification, assetsList in cls_dic.items():\r\n",
                "\r\n",
                "        classification_update_file = os.path.join(update_paylod_folder_fullpath, classification.replace(\".\",\"_\") + \"_assignment.json\")\r\n",
                "        \r\n",
                "        json_obj = []\r\n",
                "        json_obj.append(classification)\r\n",
                "        with open(classification_update_file,'w',encoding='utf-8') as jsonFile:\r\n",
                "            json.dump(json_obj, jsonFile)\r\n",
                "        \r\n",
                "        scriptfile.write(\"\\n\")\r\n",
                "        scriptfile.writelines(\"# Updating classification assignment: {0}\".format(classification))\r\n",
                "        for assignmentAsset in assetsList:\r\n",
                "            scriptfile.write(\"\\n\")\r\n",
                "            scriptfile.writelines(classification_assignment_cli_template.format(assignmentAsset, classification_update_file))\r\n",
                "            scriptfile.write(\"\\n\")\r\n",
                "finally:\r\n",
                "    scriptfile.close()"
            ],
            "metadata": {
                "language": "python",
                "azdata_cell_guid": "b84fbe21-0ca1-4d3a-8932-f6bd92567d21",
                "tags": []
            },
            "outputs": [],
            "execution_count": 24
        },
        {
            "cell_type": "code",
            "source": [
                "print(\"Scripts and payload files were generated\")"
            ],
            "metadata": {
                "azdata_cell_guid": "e7ae9299-e038-4ccf-9ce7-8229fbed8543",
                "language": "python"
            },
            "outputs": [],
            "execution_count": 25
        }
    ]
}