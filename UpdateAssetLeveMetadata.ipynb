{
    "cells": [
        {
            "attachments": {},
            "cell_type": "markdown",
            "metadata": {
                "azdata_cell_guid": "d32217a1-4553-445d-813e-5c22981058cd"
            },
            "source": [
                "**Run Setup**"
            ]
        },
        {
            "cell_type": "code",
            "execution_count": 215,
            "metadata": {
                "azdata_cell_guid": "9a76fe21-5f1d-48fb-b404-a4d7737fccf7",
                "language": "python"
            },
            "outputs": [
                {
                    "name": "stdout",
                    "output_type": "stream",
                    "text": [
                        "Setup is complete!\n"
                    ]
                }
            ],
            "source": [
                "%run ./Setup.ipynb"
            ]
        },
        {
            "attachments": {},
            "cell_type": "markdown",
            "metadata": {
                "azdata_cell_guid": "af0aac20-f28a-4532-b6e6-5afae0a7257a"
            },
            "source": [
                "**<mark>Provide the CSV file name that contains metadata to be updated</mark>**"
            ]
        },
        {
            "cell_type": "code",
            "execution_count": 216,
            "metadata": {
                "azdata_cell_guid": "ac770b48-7f14-416d-881e-12579a32cbc4",
                "language": "python",
                "tags": []
            },
            "outputs": [],
            "source": [
                "#This file can be generated from Extract Purview Asset notebok and populated manually for description, BG terms, classification\n",
                "#This file should be at the root of the working folder\n",
                "#ExtractedAssetCSVFileName = 'yourfilename_details_purview_assets.csv' \n",
                "ExtractedAssetCSVFileName = 'yourfilename_details_purview_assets.csv'"
            ]
        },
        {
            "attachments": {},
            "cell_type": "markdown",
            "metadata": {
                "azdata_cell_guid": "b9f1c9be-7ad3-44fc-bbae-292e1f26b442"
            },
            "source": [
                "**Read into a dataframe and start process**"
            ]
        },
        {
            "cell_type": "code",
            "execution_count": 217,
            "metadata": {
                "azdata_cell_guid": "57bee78e-08d6-459d-b341-133097e5612a",
                "language": "python",
                "tags": []
            },
            "outputs": [],
            "source": [
                "ExtractedAssetCSVFullPath = os.path.join(root_working_folder, ExtractedAssetCSVFileName) \n",
                "dfUpdates = pd.read_csv(ExtractedAssetCSVFullPath, sep=',', delimiter=None, header='infer', index_col=0, encoding_errors='backslashreplace')"
            ]
        },
        {
            "cell_type": "code",
            "execution_count": 218,
            "metadata": {
                "azdata_cell_guid": "bb02f67d-c979-41e6-b03a-8b0abd951640",
                "language": "python"
            },
            "outputs": [],
            "source": [
                "update_paylod_folder_name = update_paylod_folder_name_template.format(os.getenv('PURVIEW_NAME'))\n",
                "update_paylod_folder_fullpath = os.path.join(root_working_folder, update_paylod_folder_name)\n",
                "\n",
                "if os.path.exists(update_paylod_folder_fullpath):\n",
                "    shutil.rmtree(update_paylod_folder_fullpath, ignore_errors=False)\n",
                "\n",
                "os.mkdir(update_paylod_folder_fullpath)"
            ]
        },
        {
            "cell_type": "code",
            "execution_count": 219,
            "metadata": {
                "azdata_cell_guid": "be6ddd66-0114-4ee6-a68a-83a98abc21a1",
                "language": "python",
                "tags": []
            },
            "outputs": [],
            "source": [
                "import numpy as np\n",
                "\n",
                "asset_dic = {}\n",
                "bg_dic = {}\n",
                "cls_dic = {}\n",
                "\n",
                "for index, row in dfUpdates.iterrows(): \n",
                "    thisName = row['name']\n",
                "    thisQualifiedName = row['qualifiedName']\n",
                "    thisClassification = row['classification']\n",
                "    thisDescription = row['description']\n",
                "    thisEntityType = row['entityType']\n",
                "    thisTerm = row['term']\n",
                "    thisCertifiedBy = row['certifiedBy']\n",
                "    \n",
                "    if pd.isna(row['id']):\n",
                "        assetcnt, dfID = searchPurviewAssets(keyword=thisQualifiedName, recursive_read=False)\n",
                "        if assetcnt==1:\n",
                "            thisID = dfID.loc[0]['id']\n",
                "        else: \n",
                "            print('Asset with name {0} could not be found'.format(thisQualifiedName))\n",
                "            thisID = -1\n",
                "    else:\n",
                "        thisID = row['id']   \n",
                "\n",
                "    asset_dic[thisID] = thisDescription\n",
                "\n",
                "    #search for BG terms and extract asset guid for them\n",
                "    if not pd.isna(row['term']):\n",
                "        termList = row['term'].strip().split(separator_char)\n",
                "        for term in termList:\n",
                "            if term not in bg_dic:\n",
                "                bg_dic[term] = []\n",
                "            bg_dic[term].extend([thisID])\n",
                "\n",
                "    #search for Classifications and extract asset guid for them\n",
                "    if not pd.isna(row['classification']):\n",
                "        classificationList = row['classification'].strip().split(separator_char)\n",
                "        for classification in classificationList:\n",
                "            if classification not in cls_dic:\n",
                "                cls_dic[classification] = []\n",
                "            if classification == 'MICROSOFT.POWERBI.ENDORSEMENT':\n",
                "                cls_dic[classification].extend([(thisID,thisCertifiedBy)])\n",
                "            else:\n",
                "                cls_dic[classification].extend([(thisID,)])\n",
                "\n"
            ]
        },
        {
            "attachments": {},
            "cell_type": "markdown",
            "metadata": {
                "azdata_cell_guid": "e71611f3-56ae-49c9-9e1c-56e15aed692b"
            },
            "source": [
                "**Generate the script and payload files for asset description update**"
            ]
        },
        {
            "cell_type": "code",
            "execution_count": 220,
            "metadata": {
                "azdata_cell_guid": "318ec9f2-3987-411d-a588-cbf7ff652517",
                "language": "python",
                "tags": []
            },
            "outputs": [],
            "source": [
                "#asset_update_cli_template = \"pv entity put --guid \\\"{0}\\\" --name \\'description\\\" --payload-file \\\"{1}\\\"\"\n",
                "asset_update_cli_template = \"pv entity put --guid \\\"{0}\\\" --attrName=\\\"userDescription\\\" --attrValue=\\\"{1}\\\"\""
            ]
        },
        {
            "cell_type": "code",
            "execution_count": 221,
            "metadata": {
                "azdata_cell_guid": "7c164a54-fa19-4bed-a543-2a07883a8a61",
                "language": "python",
                "tags": []
            },
            "outputs": [],
            "source": [
                "try:\n",
                "    desc_update_script_file = os.path.join(update_paylod_folder_fullpath, os.getenv('PURVIEW_NAME')+\"_asset_desciption_update.ps1_\" )\n",
                "    scriptfile = open(desc_update_script_file, \"w\") \n",
                "    scriptfile.writelines(\"$env:PURVIEW_NAME='{0}'\".format(os.getenv('PURVIEW_NAME')))\n",
                "    scriptfile.write(\"\\n\")\n",
                "    scriptfile.writelines(\"$env:AZURE_CLIENT_ID='{0}'\".format(os.getenv('AZURE_CLIENT_ID')))\n",
                "    scriptfile.write(\"\\n\")\n",
                "    scriptfile.writelines(\"$env:AZURE_TENANT_ID='{0}'\".format(os.getenv('AZURE_TENANT_ID')))\n",
                "    scriptfile.write(\"\\n\")\n",
                "    scriptfile.writelines(\"$env:AZURE_CLIENT_SECRET='{0}'\".format(\"your client secret\"))\n",
                "    scriptfile.write(\"\\n\")\n",
                "    scriptfile.write(\"\\n\")\n",
                "\n",
                "    for assetId, desc in asset_dic.items():\n",
                "        if pd.isna(desc):\n",
                "            continue;\n",
                "\n",
                "        qix = desc.find('\"')\n",
                "        if qix >= 0:\n",
                "            desc = desc.replace('\"', '\\`\"')   #escape \" with \\`\" \n",
                "\n",
                "        if assetId == -1:\n",
                "            scriptfile.write(\"\\n\")\n",
                "            scriptfile.writelines(\"#asset id could not be found -- skipping updating '{0}' description\".format(desc))\n",
                "            scriptfile.write(\"\\n\")\n",
                "        else:\n",
                "            #desc_update_file = os.path.join(update_paylod_folder_fullpath, assetId + \"_desc.json\")\n",
                "            # try:\n",
                "            #     file = open(desc_update_file, 'w',encoding='utf-8') \n",
                "            #     file.writelines(\"\\\"{0}\\\"\".format(desc)) \n",
                "            # finally:\n",
                "            #     file.close() \n",
                "            \n",
                "            scriptfile.write(\"\\n\")\n",
                "            #scriptfile.writelines(asset_update_cli_template.format(assetId, desc_update_file))\n",
                "            scriptfile.writelines(asset_update_cli_template.format(assetId, desc))\n",
                "            scriptfile.write(\"\\n\")\n",
                "finally:\n",
                "    scriptfile.close()"
            ]
        },
        {
            "attachments": {},
            "cell_type": "markdown",
            "metadata": {
                "azdata_cell_guid": "550c4bea-2bb0-46c2-8ec9-88f51f2fd2e8"
            },
            "source": [
                "**Generate the script and payload files for asset term association**"
            ]
        },
        {
            "cell_type": "code",
            "execution_count": 222,
            "metadata": {
                "azdata_cell_guid": "ec97459b-eeee-4f5e-b4f1-6f010b354a03",
                "language": "python"
            },
            "outputs": [],
            "source": [
                "term_assignment_cli_template = \"pv glossary createTermsAssignedEntities --termGuid \\\"{0}\\\" --payloadFile \\\"{1}\\\"\""
            ]
        },
        {
            "cell_type": "code",
            "execution_count": 223,
            "metadata": {
                "azdata_cell_guid": "1323ce56-228e-4772-995b-20f5cbfd6351",
                "language": "python"
            },
            "outputs": [],
            "source": [
                "try:\n",
                "    bg_update_script_file = os.path.join(update_paylod_folder_fullpath, os.getenv('PURVIEW_NAME')+\"_asset_term_association.ps1_\" )\n",
                "    scriptfile = open(bg_update_script_file, \"w\") \n",
                "    scriptfile.writelines(\"$env:PURVIEW_NAME='{0}'\".format(os.getenv('PURVIEW_NAME')))\n",
                "    scriptfile.write(\"\\n\")\n",
                "    scriptfile.writelines(\"$env:AZURE_CLIENT_ID='{0}'\".format(os.getenv('AZURE_CLIENT_ID')))\n",
                "    scriptfile.write(\"\\n\")\n",
                "    scriptfile.writelines(\"$env:AZURE_TENANT_ID='{0}'\".format(os.getenv('AZURE_TENANT_ID')))\n",
                "    scriptfile.write(\"\\n\")\n",
                "    scriptfile.writelines(\"$env:AZURE_CLIENT_SECRET='{0}'\".format(\"your client secret\"))\n",
                "    scriptfile.write(\"\\n\")\n",
                "    scriptfile.write(\"\\n\")\n",
                "\n",
                "    for term, assetsList in bg_dic.items():\n",
                "            thisTermId = formalNameToGuid(term)\n",
                "            if thisTermId=='':\n",
                "                scriptfile.write(\"\\n\")\n",
                "                scriptfile.writelines(\"#A unique term id could not be found -- skipping assignment for '{0}' term\".format(term))\n",
                "                scriptfile.write(\"\\n\")\n",
                "                continue\n",
                "\n",
                "            term_update_file = os.path.join(update_paylod_folder_fullpath, thisTermId + \"_assignment.json\")\n",
                "            json_obj = []\n",
                "            for assignmentAsset in assetsList:\n",
                "                json_obj.append({'guid' : '{0}'.format(assignmentAsset)})\n",
                "                with open(term_update_file,'w',encoding='utf-8') as jsonFile:\n",
                "                    json.dump(json_obj, jsonFile)\n",
                "\n",
                "            scriptfile.write(\"\\n\")\n",
                "            scriptfile.writelines(\"# Updating term assignment: {0}\".format(term))\n",
                "            scriptfile.write(\"\\n\")\n",
                "            scriptfile.writelines(term_assignment_cli_template.format(thisTermId, term_update_file))\n",
                "            scriptfile.write(\"\\n\")\n",
                "finally:\n",
                "    scriptfile.close()"
            ]
        },
        {
            "cell_type": "code",
            "execution_count": 224,
            "metadata": {
                "azdata_cell_guid": "f3962a37-bbf6-44db-8e1b-c61931d5de58",
                "language": "python"
            },
            "outputs": [],
            "source": [
                "classification_assignment_cli_template = \"pv entity createClassifications --guid=\\\"{0}\\\" --payloadFile=\\\"{1}\\\"\""
            ]
        },
        {
            "cell_type": "code",
            "execution_count": 225,
            "metadata": {
                "azdata_cell_guid": "b84fbe21-0ca1-4d3a-8932-f6bd92567d21",
                "language": "python",
                "tags": []
            },
            "outputs": [],
            "source": [
                "certifiationClassifierName = 'MICROSOFT.POWERBI.ENDORSEMENT'\n",
                "try:\n",
                "    classification_update_script_file = os.path.join(update_paylod_folder_fullpath, os.getenv('PURVIEW_NAME')+\"_asset_classification_association.ps1_\" )\n",
                "    scriptfile = open(classification_update_script_file, \"w\") \n",
                "    scriptfile.writelines(\"$env:PURVIEW_NAME='{0}'\".format(os.getenv('PURVIEW_NAME')))\n",
                "    scriptfile.write(\"\\n\")\n",
                "    scriptfile.writelines(\"$env:AZURE_CLIENT_ID='{0}'\".format(os.getenv('AZURE_CLIENT_ID')))\n",
                "    scriptfile.write(\"\\n\")\n",
                "    scriptfile.writelines(\"$env:AZURE_TENANT_ID='{0}'\".format(os.getenv('AZURE_TENANT_ID')))\n",
                "    scriptfile.write(\"\\n\")\n",
                "    scriptfile.writelines(\"$env:AZURE_CLIENT_SECRET='{0}'\".format(\"your client secret\"))\n",
                "    scriptfile.write(\"\\n\")\n",
                "    scriptfile.write(\"\\n\")\n",
                "    scriptfile.write(\"# Errors might be due to the fact that a classification already exists on the asset. You can safely ignore these type of errors.\")\n",
                "    scriptfile.write(\"\\n\")    \n",
                "    scriptfile.write(\"\\n\")\n",
                "\n",
                "    certifiedAssetList = [] \n",
                "    for classification, assetsList in cls_dic.items():\n",
                "        #deal with Certification separately\n",
                "        if classification == certifiationClassifierName:\n",
                "            certifiedAssetList.extend(assetsList)\n",
                "            continue \n",
                "\n",
                "        classification_update_file = os.path.join(update_paylod_folder_fullpath, classification.replace(\".\",\"_\") + \"_assignment.json\")\n",
                "        \n",
                "        json_obj = []\n",
                "        json_obj.append(classification)\n",
                "\n",
                "        with open(classification_update_file,'w',encoding='utf-8') as jsonFile:\n",
                "            json.dump(json_obj, jsonFile)\n",
                "        \n",
                "        scriptfile.write(\"\\n\")\n",
                "        scriptfile.writelines(\"# Updating classification assignment: {0}\".format(classification))\n",
                "        for assignmentAsset in assetsList:\n",
                "            scriptfile.write(\"\\n\")\n",
                "            scriptfile.writelines(classification_assignment_cli_template.format(assignmentAsset[0], classification_update_file))\n",
                "            scriptfile.write(\"\\n\")\n",
                "\n",
                "    #certified assets script\n",
                "    if len(certifiedAssetList)>0:\n",
                "        scriptfile.write(\"\\n\")\n",
                "        scriptfile.writelines(\"# Updating classification assignment: {0}\".format(certifiationClassifierName))\n",
                "        for certAsset in certifiedAssetList:\n",
                "            if len(certAsset)==1 or pd.isna(certAsset[1]) or certAsset[1].strip()=='':\n",
                "                scriptfile.write(\"\\n\")\n",
                "                scriptfile.writelines(\"# No certifiedBy value found for {0}. Can't promote assets with this tool.\".format(certAsset[0]))\n",
                "                scriptfile.write(\"\\n\")\n",
                "                continue;\n",
                "\n",
                "            json_obj = []\n",
                "            json_obj.append({'typeName': '{0}'.format(certifiationClassifierName),'attributes': {'certifiedBy': '{0}'.format(certAsset[1]),'endorsement': 'Certified'}})\n",
                "            classification_update_file = os.path.join(update_paylod_folder_fullpath, certifiationClassifierName.replace(\".\",\"_\") + \"_{0}_assignment.json\".format(certAsset[1]))\n",
                "            #do not create duplicate files for same certified by\n",
                "            if not os.path.isfile(classification_update_file):\n",
                "                with open(classification_update_file,'w',encoding='utf-8') as jsonFile:\n",
                "                    json.dump(json_obj, jsonFile)\n",
                "            \n",
                "            scriptfile.write(\"\\n\")\n",
                "            scriptfile.writelines(classification_assignment_cli_template.format(certAsset[0], classification_update_file))\n",
                "            scriptfile.write(\"\\n\")\n",
                "finally:\n",
                "    scriptfile.close()"
            ]
        },
        {
            "cell_type": "code",
            "execution_count": 226,
            "metadata": {
                "azdata_cell_guid": "e7ae9299-e038-4ccf-9ce7-8229fbed8543",
                "language": "python"
            },
            "outputs": [
                {
                    "name": "stdout",
                    "output_type": "stream",
                    "text": [
                        "Scripts and payload files were generated\n"
                    ]
                }
            ],
            "source": [
                "print(\"Scripts and payload files were generated\")"
            ]
        }
    ],
    "metadata": {
        "extensions": {
            "azuredatastudio": {
                "version": 1,
                "views": []
            }
        },
        "kernelspec": {
            "display_name": "Python 3 (ipykernel)",
            "language": "python",
            "name": "python3"
        },
        "language_info": {
            "codemirror_mode": {
                "name": "ipython",
                "version": 3
            },
            "file_extension": ".py",
            "mimetype": "text/x-python",
            "name": "python",
            "nbconvert_exporter": "python",
            "pygments_lexer": "ipython3",
            "version": "3.11.4"
        }
    },
    "nbformat": 4,
    "nbformat_minor": 2
}
