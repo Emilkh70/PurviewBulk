{
    "cells": [
        {
            "attachments": {},
            "cell_type": "markdown",
            "metadata": {
                "azdata_cell_guid": "5b2422c4-d420-45ad-a8db-ffd02e1174f3"
            },
            "source": [
                "**<mark>Parameters</mark>**"
            ]
        },
        {
            "cell_type": "code",
            "execution_count": null,
            "metadata": {
                "azdata_cell_guid": "43fb437d-17d5-4f5c-bfa1-6dcea0f2b40c",
                "language": "python",
                "tags": []
            },
            "outputs": [],
            "source": [
                "#export purview assets matching this keyword\n",
                "search_keyword = 'mssql://azdemosrv01.database.windows.net/AdventureWorksSimple/dbo/Product'\n",
                "\n",
                "#asset level details are exported by default, if you want schema level details set the following to True\n",
                "\"\"\"\n",
                "IMPORTANT -- PLEASE READ.\n",
                "Depending on the number of assets, schema extraction can be an intensive process potentially taking a significant amount of time.\n",
                "It is recommended to use a keyword initially to limit the scope of assets for estimation purposes.\n",
                "\"\"\"\n",
                "extract_schema_level_details = True"
            ]
        },
        {
            "attachments": {},
            "cell_type": "markdown",
            "metadata": {
                "azdata_cell_guid": "60128195-df99-4278-bcaf-5b1c2e26fd44"
            },
            "source": [
                "**Run Setup**"
            ]
        },
        {
            "cell_type": "code",
            "execution_count": null,
            "metadata": {
                "azdata_cell_guid": "1d1ade77-12b6-4c31-9a63-77c2c3b4cfbe",
                "language": "python"
            },
            "outputs": [],
            "source": [
                "%run ./Setup.ipynb"
            ]
        },
        {
            "attachments": {},
            "cell_type": "markdown",
            "metadata": {
                "azdata_cell_guid": "7705db17-aa7b-4109-adad-21326e791f2c",
                "extensions": {
                    "azuredatastudio": {
                        "views": []
                    }
                }
            },
            "source": [
                "```\n",
                "Search all (*) Purview assets and create a csv file with asset details\n",
                "```"
            ]
        },
        {
            "attachments": {},
            "cell_type": "markdown",
            "metadata": {
                "azdata_cell_guid": "249a7023-f099-4721-889e-a4286d0d414f"
            },
            "source": [
                "**Crawl assets and extract schema information  \n",
                "This will be taking a longer time to complete.  \n",
                "If you don't need schema information, you can skip this section**"
            ]
        },
        {
            "cell_type": "code",
            "execution_count": null,
            "metadata": {
                "azdata_cell_guid": "c59ace3d-4965-4999-bc43-e298f8dc3a53",
                "language": "python",
                "tags": []
            },
            "outputs": [],
            "source": [
                "#you can change the keyword to match your scope\n",
                "cnt, dfAssets = searchPurviewAssets(keyword=search_keyword, recursive_read=True)\n",
                "\n",
                "dfFinalAssets = pd.DataFrame(columns = ['name', 'qualifiedName', 'classification', 'term', 'description','entityType', 'id', 'certifiedBy'])\n",
                "\n",
                "for index, row in dfAssets.iterrows():\n",
                "\n",
                "    thisAssetId = dfAssets.loc[index]['id']\n",
                "    bulk_output = !pv entity readBulk --guid {thisAssetId}\n",
                "    bulk_json = json.loads(''.join(bulk_output))\n",
                "    if len(bulk_json['entities'])!=1:\n",
                "        continue;\n",
                "    else:\n",
                "        parentRow = extractAssetRowFromEntity(bulk_json)\n",
                "        dfFinalAssets = pd.concat([dfFinalAssets, pd.DataFrame([parentRow])], ignore_index=True)\n",
                "    \n",
                "    \n",
                "    if extract_schema_level_details == True:\n",
                "        cols, refEntities = getColumnStructure(bulk_json)\n",
                "\n",
                "        if cols == None:\n",
                "            continue;\n",
                "\n",
                "        for aCol in cols:\n",
                "            colId = aCol['guid']\n",
                "            #find column in referenced entites section\n",
                "            thisRefEntity = refEntities[colId]\n",
                "            \n",
                "            strClassifications = None\n",
                "            strTerms = None\n",
                "                \n",
                "            if 'classifications' in thisRefEntity:\n",
                "                strClassifications = separator_char.join([aClass['typeName'] for aClass in thisRefEntity['classifications']])\n",
                "\n",
                "            if 'meanings' in thisRefEntity['relationshipAttributes']:\n",
                "                thisTermsGuidList = [aTerm['guid'] for aTerm in thisRefEntity['relationshipAttributes']['meanings']]\n",
                "                thisTermsList = guidToFormalName(thisTermsGuidList)  \n",
                "                strTerms = separator_char.join(thisTermsList)\n",
                "\n",
                "\n",
                "            this_col_row = {'name':thisRefEntity['attributes']['name']\n",
                "            ,'qualifiedName':thisRefEntity['attributes']['qualifiedName']\n",
                "            ,'classification':strClassifications\n",
                "            ,'term':strTerms\n",
                "            ,'description':coalesce([thisRefEntity['attributes']['userDescription'], thisRefEntity['attributes']['description']])\n",
                "            ,'entityType':thisRefEntity['typeName']\n",
                "            ,'id':colId}\n",
                "\n",
                "            dfFinalAssets = pd.concat([dfFinalAssets, pd.DataFrame([this_col_row])], ignore_index=True)\n",
                "    \n",
                "    \n",
                "#save the file to root working folder\n",
                "if extract_schema_level_details == True:\n",
                "    export_file_name = os.path.join(root_working_folder, asset_detail_export_file_name_template.format(os.getenv('PURVIEW_NAME')))\n",
                "else:\n",
                "    export_file_name = os.path.join(root_working_folder, asset_export_file_name_template.format(os.getenv('PURVIEW_NAME')))\n",
                "                       \n",
                "if os.path.exists(export_file_name):\n",
                "    os.remove(export_file_name)\n",
                "\n",
                "dfFinalAssets.to_csv(export_file_name, index_label='index')"
            ]
        },
        {
            "cell_type": "code",
            "execution_count": null,
            "metadata": {
                "azdata_cell_guid": "c35f38c6-877e-4510-98c1-dc8a354db586",
                "language": "python",
                "tags": []
            },
            "outputs": [],
            "source": [
                "print(str(len(dfAssets)) + \" asset(s) were extracted from \" + os.getenv('PURVIEW_NAME') )\n",
                "\n",
                "if extract_schema_level_details == True:\n",
                "    print(str(len(dfFinalAssets)) + \" asset(s) with details were extracted from \" + os.getenv('PURVIEW_NAME') )"
            ]
        }
    ],
    "metadata": {
        "extensions": {
            "azuredatastudio": {
                "version": 1,
                "views": []
            }
        },
        "kernelspec": {
            "display_name": "Python 3 (ipykernel)",
            "language": "python",
            "name": "python3"
        },
        "language_info": {
            "codemirror_mode": {
                "name": "ipython",
                "version": 3
            },
            "file_extension": ".py",
            "mimetype": "text/x-python",
            "name": "python",
            "nbconvert_exporter": "python",
            "pygments_lexer": "ipython3",
            "version": "3.11.4"
        }
    },
    "nbformat": 4,
    "nbformat_minor": 2
}
