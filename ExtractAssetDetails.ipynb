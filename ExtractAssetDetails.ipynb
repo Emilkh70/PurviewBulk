{
    "metadata": {
        "kernelspec": {
            "name": "python3",
            "display_name": "Python 3 (ipykernel)",
            "language": "python"
        },
        "language_info": {
            "name": "python",
            "version": "3.9.0",
            "mimetype": "text/x-python",
            "codemirror_mode": {
                "name": "ipython",
                "version": 3
            },
            "pygments_lexer": "ipython3",
            "nbconvert_exporter": "python",
            "file_extension": ".py"
        },
        "extensions": {
            "azuredatastudio": {
                "version": 1,
                "views": []
            }
        }
    },
    "nbformat_minor": 2,
    "nbformat": 4,
    "cells": [
        {
            "cell_type": "markdown",
            "source": [
                "**Run Setup**"
            ],
            "metadata": {
                "azdata_cell_guid": "60128195-df99-4278-bcaf-5b1c2e26fd44"
            },
            "attachments": {}
        },
        {
            "cell_type": "code",
            "source": [
                "%run ./Setup.ipynb"
            ],
            "metadata": {
                "azdata_cell_guid": "1d1ade77-12b6-4c31-9a63-77c2c3b4cfbe"
            },
            "outputs": [],
            "execution_count": 2
        },
        {
            "cell_type": "markdown",
            "source": [
                "**Search all (\\*) Purview assets and create a csv file with asset details**"
            ],
            "metadata": {
                "azdata_cell_guid": "7705db17-aa7b-4109-adad-21326e791f2c",
                "extensions": {
                    "azuredatastudio": {
                        "views": []
                    }
                }
            },
            "attachments": {}
        },
        {
            "cell_type": "code",
            "source": [
                "#you can change the keyword to match your scope\r\n",
                "cnt, dfAssets = searchPurviewAssets(keyword='*', recursive_read=True)\r\n",
                "\r\n",
                "#save the file to root working folder\r\n",
                "export_file_name = os.path.join(root_working_folder, asset_export_file_name_template.format(os.getenv('PURVIEW_NAME')))\r\n",
                "\r\n",
                "if os.path.exists(export_file_name):\r\n",
                "    os.remove(export_file_name)\r\n",
                "\r\n",
                "dfAssets.to_csv(export_file_name, index_label='index')"
            ],
            "metadata": {
                "azdata_cell_guid": "d39fe606-94a9-4ca6-8e6a-4e94fc82ce9f",
                "tags": [],
                "extensions": {
                    "azuredatastudio": {
                        "views": []
                    }
                }
            },
            "outputs": [],
            "execution_count": 3
        },
        {
            "cell_type": "markdown",
            "source": [
                "**Crawl assets and extract schema information  \n",
                "This will be taking a longer time to complete.  \n",
                "If you don't need schema information, you can skip this section**"
            ],
            "metadata": {
                "azdata_cell_guid": "249a7023-f099-4721-889e-a4286d0d414f"
            },
            "attachments": {}
        },
        {
            "cell_type": "code",
            "source": [
                "columns_list = dfAssets.columns\r\n",
                "dfDetiledAssets = pd.DataFrame(columns = columns_list)\r\n",
                "\r\n",
                "for index, row in dfAssets.iterrows():\r\n",
                "    dfDetiledAssets = dfDetiledAssets.append(row, ignore_index=True)\r\n",
                "\r\n",
                "    thisAssetId = dfAssets.loc[index]['id']\r\n",
                "    bulk_output = !pv entity readBulk --guid {thisAssetId}\r\n",
                "    bulk_json = json.loads(''.join(bulk_output))\r\n",
                "    if len(bulk_json['entities'])!=1:\r\n",
                "        continue;\r\n",
                "\r\n",
                "    cols, refEntities = getColumnStructure(bulk_json)\r\n",
                "\r\n",
                "    if cols == None:\r\n",
                "        continue;\r\n",
                "\r\n",
                "    for aCol in cols:\r\n",
                "        colId = aCol['guid']\r\n",
                "        #find column in referenced entites section\r\n",
                "        thisRefEntity = refEntities[colId]\r\n",
                "        \r\n",
                "        strClassifications = None\r\n",
                "        strTerms = None\r\n",
                "            \r\n",
                "        if 'classifications' in thisRefEntity:\r\n",
                "            strClassifications = separator_char.join([aClass['typeName'] for aClass in thisRefEntity['classifications']])\r\n",
                "\r\n",
                "        if 'meanings' in thisRefEntity['relationshipAttributes']:\r\n",
                "            thisTermsGuidList = [aTerm['guid'] for aTerm in thisRefEntity['relationshipAttributes']['meanings']]\r\n",
                "            thisTermsList = guidToFormalName(thisTermsGuidList)  \r\n",
                "            strTerms = separator_char.join(thisTermsList)\r\n",
                "\r\n",
                "\r\n",
                "        this_col_row = {'name':thisRefEntity['attributes']['name']\r\n",
                "        ,'qualifiedName':thisRefEntity['attributes']['qualifiedName']\r\n",
                "        ,'classification':strClassifications\r\n",
                "        ,'term':strTerms\r\n",
                "        ,'description':thisRefEntity['attributes']['description']\r\n",
                "        ,'entityType':thisRefEntity['typeName']\r\n",
                "        ,'assetType':''\r\n",
                "        ,'id':colId}\r\n",
                "\r\n",
                "        dfDetiledAssets = dfDetiledAssets.append(this_col_row, ignore_index=True)\r\n",
                "    \r\n",
                "    \r\n",
                "#save the file to root working folder\r\n",
                "export_details_file_name = os.path.join(root_working_folder, asset_detail_export_file_name_template.format(os.getenv('PURVIEW_NAME')))\r\n",
                "dfDetiledAssets.to_csv(export_details_file_name, index_label='index')"
            ],
            "metadata": {
                "azdata_cell_guid": "c59ace3d-4965-4999-bc43-e298f8dc3a53"
            },
            "outputs": [],
            "execution_count": 4
        },
        {
            "cell_type": "code",
            "source": [
                "print(str(len(dfAssets)) + \" asset(s) were extracted from \" + os.getenv('PURVIEW_NAME') )\r\n",
                "print(str(len(dfDetiledAssets)) + \" asset(s) with details were extracted from \" + os.getenv('PURVIEW_NAME') )"
            ],
            "metadata": {
                "azdata_cell_guid": "c35f38c6-877e-4510-98c1-dc8a354db586"
            },
            "outputs": [],
            "execution_count": 5
        }
    ]
}