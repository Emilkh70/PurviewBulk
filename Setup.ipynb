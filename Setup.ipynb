{
    "metadata": {
        "kernelspec": {
            "name": "python3",
            "display_name": "Python 3 (ipykernel)",
            "language": "python"
        },
        "language_info": {
            "name": "python",
            "version": "3.9.0",
            "mimetype": "text/x-python",
            "codemirror_mode": {
                "name": "ipython",
                "version": 3
            },
            "pygments_lexer": "ipython3",
            "nbconvert_exporter": "python",
            "file_extension": ".py"
        },
        "extensions": {
            "azuredatastudio": {
                "version": 1,
                "views": []
            }
        }
    },
    "nbformat_minor": 2,
    "nbformat": 4,
    "cells": [
        {
            "cell_type": "markdown",
            "source": [
                "**Install or update Purview CLI and required packages (run if needed)**"
            ],
            "metadata": {
                "azdata_cell_guid": "9e9fdea4-2e18-4e66-a13f-3bba5cce4618"
            },
            "attachments": {}
        },
        {
            "cell_type": "code",
            "source": [
                "#!pip install --upgrade purviewcli\r\n",
                "#!pip install --upgrade pandas\r\n",
                "#!pip install --upgrade matplotlib\r\n",
                "#!pip install python-dotenv"
            ],
            "metadata": {
                "azdata_cell_guid": "cc6ab0b5-88b3-4c63-a2c0-9a6705ffe96c",
                "tags": []
            },
            "outputs": [],
            "execution_count": 116
        },
        {
            "cell_type": "code",
            "source": [
                "import json\r\n",
                "import pandas as pd\r\n",
                "import os\r\n",
                "import shutil\r\n",
                "import numpy as np\r\n",
                "\r\n",
                "#installed from package above\r\n",
                "from dotenv import load_dotenv"
            ],
            "metadata": {
                "azdata_cell_guid": "500ae9e3-d82a-4b88-b2ab-ad2b0c7a57d0"
            },
            "outputs": [],
            "execution_count": 117
        },
        {
            "cell_type": "markdown",
            "source": [
                "**<mark>Setup Authentication</mark>**"
            ],
            "metadata": {
                "azdata_cell_guid": "b55601a6-3802-487b-b58c-1e2297ed33e4"
            },
            "attachments": {}
        },
        {
            "cell_type": "code",
            "source": [
                "#Create a .env file and add the following lines to it\n",
                "\n",
                "#PURVIEW_NAME=\"Purview Account Name\"\n",
                "#AZURE_CLIENT_ID=\"Your client ID\"\n",
                "#AZURE_TENANT_ID=\"Your tenant ID\"\n",
                "#AZURE_CLIENT_SECRET=\"Your Client secret\" \n",
                "\n",
                "#load environment variables from .env file\n",
                "load_dotenv(dotenv_path='./.env')"
            ],
            "metadata": {
                "azdata_cell_guid": "bb4fbe3c-15e4-45bb-a660-3bfe04365fe3",
                "tags": []
            },
            "outputs": [],
            "execution_count": 118
        },
        {
            "cell_type": "markdown",
            "source": [
                "**<mark>User Parameters</mark>**"
            ],
            "metadata": {
                "azdata_cell_guid": "312f0da4-fd32-46c5-9da0-0f874dbdb956"
            },
            "attachments": {}
        },
        {
            "cell_type": "code",
            "source": [
                "#filter string for Purview call\r\n",
                "filter_json_str = '''\r\n",
                "{\r\n",
                "  \"and\": [\r\n",
                "    {\r\n",
                "      \"not\": {\r\n",
                "        \"or\": [\r\n",
                "          {\r\n",
                "            \"attributeName\": \"size\",\r\n",
                "            \"operator\": \"eq\",\r\n",
                "            \"attributeValue\": 0\r\n",
                "          },\r\n",
                "          {\r\n",
                "            \"attributeName\": \"fileSize\",\r\n",
                "            \"operator\": \"eq\",\r\n",
                "            \"attributeValue\": 0\r\n",
                "          }\r\n",
                "        ]\r\n",
                "      }\r\n",
                "    },\r\n",
                "    {\r\n",
                "      \"not\": {\r\n",
                "        \"classification\": \"MICROSOFT.SYSTEM.TEMP_FILE\"\r\n",
                "      }\r\n",
                "    },\r\n",
                "    {\r\n",
                "      \"not\": {\r\n",
                "        \"or\": [\r\n",
                "          {\r\n",
                "            \"entityType\": \"AtlasGlossaryTerm\"\r\n",
                "          },\r\n",
                "          {\r\n",
                "            \"entityType\": \"AtlasGlossary\"\r\n",
                "          }\r\n",
                "        ]\r\n",
                "      }\r\n",
                "    }\r\n",
                "  ]\r\n",
                "}\r\n",
                "'''\r\n",
                "\r\n",
                "filter_bg_only_json_str = '''\r\n",
                "{\r\n",
                "  \"and\": [\r\n",
                "    {\r\n",
                "      \"not\": {\r\n",
                "        \"or\": [\r\n",
                "          {\r\n",
                "            \"attributeName\": \"size\",\r\n",
                "            \"operator\": \"eq\",\r\n",
                "            \"attributeValue\": 0\r\n",
                "          },\r\n",
                "          {\r\n",
                "            \"attributeName\": \"fileSize\",\r\n",
                "            \"operator\": \"eq\",\r\n",
                "            \"attributeValue\": 0\r\n",
                "          }\r\n",
                "        ]\r\n",
                "      }\r\n",
                "    },\r\n",
                "    {\r\n",
                "      \"not\": {\r\n",
                "        \"classification\": \"MICROSOFT.SYSTEM.TEMP_FILE\"\r\n",
                "      }\r\n",
                "    },\r\n",
                "    {\r\n",
                "        \"or\": [\r\n",
                "            {\r\n",
                "                \"entityType\": \"AtlasGlossaryTerm\"\r\n",
                "            },\r\n",
                "            {\r\n",
                "                \"entityType\": \"AtlasGlossary\"\r\n",
                "            }\r\n",
                "        ]\r\n",
                "    }\r\n",
                "  ]\r\n",
                "}\r\n",
                "'''\r\n",
                "\r\n",
                "\r\n",
                "#facets to be returned\r\n",
                "facet_json_str = '''\r\n",
                "[{\r\n",
                "    \"facet\": \"assetType\",\r\n",
                "    \"count\": 0,\r\n",
                "    \"sort\": {\r\n",
                "        \"count\": \"desc\"\r\n",
                "    }\r\n",
                "}, {\r\n",
                "    \"facet\": \"classification\",\r\n",
                "    \"count\": 10,\r\n",
                "    \"sort\": {\r\n",
                "        \"count\": \"desc\"\r\n",
                "    }\r\n",
                "}, {\r\n",
                "    \"facet\": \"contactId\",\r\n",
                "    \"count\": 10,\r\n",
                "    \"sort\": {\r\n",
                "        \"count\": \"desc\"\r\n",
                "    }\r\n",
                "}, {\r\n",
                "    \"facet\": \"label\",\r\n",
                "    \"count\": 10,\r\n",
                "    \"sort\": {\r\n",
                "        \"count\": \"desc\"\r\n",
                "    }\r\n",
                "}, {\r\n",
                "    \"facet\": \"term\",\r\n",
                "    \"count\": 10,\r\n",
                "    \"sort\": {\r\n",
                "        \"count\": \"desc\"\r\n",
                "    }\r\n",
                "}, {\r\n",
                "    \"facet\": \"classificationCategory\",\r\n",
                "    \"count\": 0,\r\n",
                "    \"sort\": {\r\n",
                "        \"count\": \"desc\"\r\n",
                "    }\r\n",
                "}, {\r\n",
                "    \"facet\": \"fileExtension\",\r\n",
                "    \"count\": 0,\r\n",
                "    \"sort\": {\r\n",
                "        \"count\": \"desc\"\r\n",
                "    }\r\n",
                "}]\r\n",
                "'''\r\n",
                "\r\n",
                "#root working directory for this notebook\r\n",
                "root_working_folder = 'C:\\Projects\\Purview\\PurviewBulk'\r\n",
                "\r\n",
                "#CAN BE LEFT AS DEFAULTS\r\n",
                "#folder for creating temporary files. will be removed and re-created with each run\r\n",
                "ephemeral_folder = 'ephemeral'\r\n",
                "\r\n",
                "#default file names\r\n",
                "asset_export_file_name_template = '{0}_purview_assets.csv'\r\n",
                "asset_detail_export_file_name_template = '{0}_details_purview_assets.csv'\r\n",
                "filter_file_name = 'filter.json'\r\n",
                "filter_bg_only_file_name = 'filter_bg_only.json'\r\n",
                "facet_file_name = 'facet.json'\r\n",
                "\r\n",
                "#folder to create all json payloads\r\n",
                "update_paylod_folder_name_template = '{0}_updates'\r\n",
                "\r\n",
                "#separator character \r\n",
                "separator_char ='|'\r\n",
                ""
            ],
            "metadata": {
                "azdata_cell_guid": "34ff4154-fd29-4e52-8df7-b21f017acbae",
                "tags": []
            },
            "outputs": [],
            "execution_count": 119
        },
        {
            "cell_type": "markdown",
            "source": [
                "**Setup working folders, filters and facets**"
            ],
            "metadata": {
                "azdata_cell_guid": "4981df3a-53a3-4f77-9916-072f9bbe6b34"
            },
            "attachments": {}
        },
        {
            "cell_type": "code",
            "source": [
                "ephemeral_full_path = os.path.join(root_working_folder, ephemeral_folder)\r\n",
                "if os.path.exists(ephemeral_full_path):\r\n",
                "    shutil.rmtree(ephemeral_full_path, ignore_errors=False)\r\n",
                "\r\n",
                "os.mkdir(ephemeral_full_path)\r\n",
                "\r\n",
                "filter_json_full_path = os.path.join(ephemeral_full_path, filter_file_name)\r\n",
                "facet_json_full_path = os.path.join(ephemeral_full_path, facet_file_name)\r\n",
                "filter_bg_only_json_full_path = os.path.join(ephemeral_full_path, filter_bg_only_file_name)\r\n",
                "\r\n",
                "\r\n",
                "file = open(filter_json_full_path, \"w\") \r\n",
                "file.writelines(filter_json_str) \r\n",
                "file.close() \r\n",
                "\r\n",
                "file = open(facet_json_full_path, \"w\") \r\n",
                "file.writelines(facet_json_str) \r\n",
                "file.close() \r\n",
                "\r\n",
                "file = open(filter_bg_only_json_full_path, \"w\") \r\n",
                "file.writelines(filter_bg_only_json_str) \r\n",
                "file.close() "
            ],
            "metadata": {
                "azdata_cell_guid": "c0ff89f4-a213-482b-b8cc-651c84fa27f3",
                "tags": []
            },
            "outputs": [],
            "execution_count": 120
        },
        {
            "cell_type": "code",
            "source": [
                "#Will be hydrated later\r\n",
                "purviewTermsDF = pd.DataFrame(columns = ['name', 'qualifiedName', 'classification', 'term', 'description','entityType','assetType', 'id'])"
            ],
            "metadata": {
                "azdata_cell_guid": "5596d452-33cf-4ae6-a4d3-183610ee4e96"
            },
            "outputs": [],
            "execution_count": 121
        },
        {
            "cell_type": "code",
            "source": [
                "def guidToFormalName(guidList):\r\n",
                "    global purviewTermsDF\r\n",
                "    result = []\r\n",
                "    matched_rows = purviewTermsDF.loc[purviewTermsDF['id'].isin(guidList)]\r\n",
                "    result.extend(matched_rows['qualifiedName'])\r\n",
                "\r\n",
                "    return result"
            ],
            "metadata": {
                "azdata_cell_guid": "94742d5e-5104-4df8-acf4-1e990d415130"
            },
            "outputs": [],
            "execution_count": 122
        },
        {
            "cell_type": "code",
            "source": [
                "def formalNameToGuid(formalName):\r\n",
                "    global purviewTermsDF\r\n",
                "    result =''\r\n",
                "    matched_rows = purviewTermsDF.loc[purviewTermsDF['qualifiedName']==formalName]\r\n",
                "    if len(matched_rows)==1:\r\n",
                "        result = matched_rows.iloc[0]['id']\r\n",
                "    \r\n",
                "    return result"
            ],
            "metadata": {
                "azdata_cell_guid": "bfd13cda-1818-436b-b773-8da531fa339d",
                "tags": [
                    "hide_input"
                ]
            },
            "outputs": [],
            "execution_count": 123
        },
        {
            "cell_type": "code",
            "source": [
                "def listToDataframe(listOfAssets):\r\n",
                "    df = pd.DataFrame(columns = ['name', 'qualifiedName', 'classification', 'term', 'description','entityType','assetType', 'id'])\r\n",
                "\r\n",
                "    for ent in listOfAssets:\r\n",
                "        if 'term' in ent:\r\n",
                "            termGuidList = [itm['guid'] for itm in ent['term']]\r\n",
                "            termFormalNameList = guidToFormalName(termGuidList)\r\n",
                "        else:\r\n",
                "            termFormalNameList = []\r\n",
                "\r\n",
                "        if 'description' not in ent:\r\n",
                "            ent['description']=np.nan\r\n",
                "\r\n",
                "        if 'assetType' not in ent:\r\n",
                "            ent['assetType']=[]\r\n",
                "\r\n",
                "        if 'classification' not in ent:\r\n",
                "            ent['classification']=[]\r\n",
                "\r\n",
                "        if 'entityType' not in ent:\r\n",
                "            ent['entityType']=np.nan      \r\n",
                "\r\n",
                "        asset_row = {'name':ent['name']\r\n",
                "        ,'qualifiedName':ent['qualifiedName']\r\n",
                "        ,'classification':separator_char.join(ent['classification'])\r\n",
                "        ,'term':separator_char.join(term for term in termFormalNameList)\r\n",
                "        ,'description':ent['description']\r\n",
                "        ,'entityType':ent['entityType']\r\n",
                "        ,'assetType':','.join(ent['assetType'])\r\n",
                "        ,'id':ent['id']}\r\n",
                "        df = df.append(asset_row, ignore_index=True)\r\n",
                "\r\n",
                "    return df"
            ],
            "metadata": {
                "azdata_cell_guid": "220034b8-f407-4e84-9067-80effede1d24",
                "tags": []
            },
            "outputs": [],
            "execution_count": 124
        },
        {
            "cell_type": "code",
            "source": [
                "def searchPurview(keyword, filter_file, batch_size = 100, recursive_read = False):\r\n",
                "    offset = 0\r\n",
                "    all_items = []\r\n",
                "    this_read_count = -1\r\n",
                "\r\n",
                "    while ((this_read_count == -1) or (this_read_count>0) and recursive_read == True):\r\n",
                "        search_output = !pv search query --keywords \"{keyword}\" --limit {batch_size} --offset {offset} --filterFile  {filter_file} --facets-file {facet_json_full_path}\r\n",
                "        search_json = json.loads(''.join(search_output))\r\n",
                "        assets_this_read = search_json['value']\r\n",
                "        this_read_count = len(assets_this_read)\r\n",
                "        all_items.extend(assets_this_read)\r\n",
                "        offset += this_read_count\r\n",
                "\r\n",
                "    dfSearchResult = listToDataframe(all_items)\r\n",
                "\r\n",
                "    return len(dfSearchResult), dfSearchResult"
            ],
            "metadata": {
                "azdata_cell_guid": "fce508ec-ffc2-4659-8ace-54473fc1fbe1"
            },
            "outputs": [],
            "execution_count": 125
        },
        {
            "cell_type": "code",
            "source": [
                "def searchPurviewAssets(keyword, batch_size = 50, recursive_read = False):\r\n",
                "    return searchPurview(keyword, filter_json_full_path, batch_size, recursive_read)"
            ],
            "metadata": {
                "azdata_cell_guid": "d09ae2a3-aeae-4029-9491-1519665c3501"
            },
            "outputs": [],
            "execution_count": 126
        },
        {
            "cell_type": "code",
            "source": [
                "def searchGlossaryTerms(keyword, batch_size = 50, recursive_read = False):\r\n",
                "    return searchPurview(keyword, filter_bg_only_json_full_path, batch_size, recursive_read)"
            ],
            "metadata": {
                "azdata_cell_guid": "01fbde8d-c100-43c2-a039-268f9767a956"
            },
            "outputs": [],
            "execution_count": 127
        },
        {
            "cell_type": "code",
            "source": [
                "def getColumnStructure(atlasEntity):\r\n",
                "    cols = None\r\n",
                "    refEnt = None\r\n",
                "\r\n",
                "    thisAsset = atlasEntity['entities'][0]\r\n",
                "    if 'relationshipAttributes' not in thisAsset:\r\n",
                "        return cols, refEnt\r\n",
                "\r\n",
                "    if 'referredEntities' in atlasEntity:\r\n",
                "        refEnt = atlasEntity['referredEntities']\r\n",
                "\r\n",
                "    if 'columns' in thisAsset['relationshipAttributes']:\r\n",
                "        cols = thisAsset['relationshipAttributes']['columns']    \r\n",
                "    else:\r\n",
                "        schGuid = None\r\n",
                "\r\n",
                "        if 'attachedSchema' in thisAsset['relationshipAttributes']:\r\n",
                "            attSch = thisAsset['relationshipAttributes']['attachedSchema']\r\n",
                "            if len(attSch)>0:\r\n",
                "                schGuid = attSch[0]['guid']\r\n",
                "\r\n",
                "        if 'tabular_schema' in thisAsset['relationshipAttributes']:\r\n",
                "            tabSch = thisAsset['relationshipAttributes']['tabular_schema']\r\n",
                "            if len(tabSch)>0:\r\n",
                "                schGuid = tabSch['guid']\r\n",
                "        \r\n",
                "        if schGuid!=None:\r\n",
                "            schema_output = !pv entity readBulk --guid {schGuid}\r\n",
                "            schema_json = json.loads(''.join(schema_output))\r\n",
                "            return getColumnStructure(schema_json) \r\n",
                "    \r\n",
                "    return cols, refEnt\r\n",
                "    "
            ],
            "metadata": {
                "azdata_cell_guid": "0d80be09-70f1-4288-816d-36d7d8c479f4"
            },
            "outputs": [],
            "execution_count": 128
        },
        {
            "cell_type": "code",
            "source": [
                "purviewTermsCount, purviewTermsDF = searchGlossaryTerms('*', recursive_read=True)"
            ],
            "metadata": {
                "azdata_cell_guid": "7ffacfe3-fb91-4f24-9fed-f993dabb0047"
            },
            "outputs": [],
            "execution_count": 129
        },
        {
            "cell_type": "code",
            "source": [
                "print('Setup is complete!')"
            ],
            "metadata": {
                "azdata_cell_guid": "19975abd-6d06-4ea0-bb81-0047a810cd1e"
            },
            "outputs": [],
            "execution_count": 130
        }
    ]
}