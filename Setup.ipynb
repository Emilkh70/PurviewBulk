{
    "cells": [
        {
            "attachments": {},
            "cell_type": "markdown",
            "metadata": {
                "azdata_cell_guid": "9e9fdea4-2e18-4e66-a13f-3bba5cce4618"
            },
            "source": [
                "**Install or update Purview CLI and required packages (run if needed)**"
            ]
        },
        {
            "cell_type": "code",
            "execution_count": 22,
            "metadata": {
                "azdata_cell_guid": "cc6ab0b5-88b3-4c63-a2c0-9a6705ffe96c",
                "language": "python",
                "tags": []
            },
            "outputs": [],
            "source": [
                "# ONLY RUN ONCE IF NEEDED\n",
                "\n",
                "#!pip install --upgrade purviewcli\n",
                "#!pip install --upgrade pandas\n",
                "#!pip install --upgrade matplotlib\n",
                "#!pip install python-dotenv"
            ]
        },
        {
            "cell_type": "code",
            "execution_count": 23,
            "metadata": {
                "azdata_cell_guid": "500ae9e3-d82a-4b88-b2ab-ad2b0c7a57d0",
                "language": "python"
            },
            "outputs": [],
            "source": [
                "import json\n",
                "import pandas as pd\n",
                "import os\n",
                "import shutil\n",
                "import numpy as np\n",
                "\n",
                "#installed from package above\n",
                "from dotenv import load_dotenv"
            ]
        },
        {
            "attachments": {},
            "cell_type": "markdown",
            "metadata": {
                "azdata_cell_guid": "b55601a6-3802-487b-b58c-1e2297ed33e4"
            },
            "source": [
                "**<mark>Setup Authentication</mark>**"
            ]
        },
        {
            "cell_type": "code",
            "execution_count": 24,
            "metadata": {
                "azdata_cell_guid": "bb4fbe3c-15e4-45bb-a660-3bfe04365fe3",
                "language": "python",
                "tags": []
            },
            "outputs": [],
            "source": [
                "#Create a .env file and add the following lines to it\n",
                "\n",
                "#PURVIEW_NAME=\"Purview Account Name\"\n",
                "#AZURE_CLIENT_ID=\"Your client ID\"\n",
                "#AZURE_TENANT_ID=\"Your tenant ID\"\n",
                "#AZURE_CLIENT_SECRET=\"Your Client secret\" \n",
                "\n",
                "#load environment variables from .env file\n",
                "load_dotenv(dotenv_path='./fabrikam.env', override=True)"
            ]
        },
        {
            "attachments": {},
            "cell_type": "markdown",
            "metadata": {
                "azdata_cell_guid": "312f0da4-fd32-46c5-9da0-0f874dbdb956"
            },
            "source": [
                "**<mark>User Parameters</mark>**"
            ]
        },
        {
            "cell_type": "code",
            "execution_count": 25,
            "metadata": {
                "azdata_cell_guid": "34ff4154-fd29-4e52-8df7-b21f017acbae",
                "language": "python",
                "tags": []
            },
            "outputs": [],
            "source": [
                "# root working directory for this notebook\n",
                "# THIS FOLDER HAS TO EXIST. IT WONT BE CREATED AUTOMATICALLY\n",
                "# root_working_folder = 'C:\\YourFolder\\PurviewBulk'\n",
                "root_working_folder = 'C:\\Repos\\PurviewBulk'\n",
                "\n",
                "#filter string for Purview call\n",
                "filter_json_str = '''\n",
                "{\n",
                "  \"and\": [\n",
                "    {\n",
                "      \"not\": {\n",
                "        \"or\": [\n",
                "          {\n",
                "            \"attributeName\": \"size\",\n",
                "            \"operator\": \"eq\",\n",
                "            \"attributeValue\": 0\n",
                "          },\n",
                "          {\n",
                "            \"attributeName\": \"fileSize\",\n",
                "            \"operator\": \"eq\",\n",
                "            \"attributeValue\": 0\n",
                "          }\n",
                "        ]\n",
                "      }\n",
                "    },\n",
                "    {\n",
                "      \"not\": {\n",
                "        \"classification\": \"MICROSOFT.SYSTEM.TEMP_FILE\"\n",
                "      }\n",
                "    },\n",
                "    {\n",
                "      \"not\": {\n",
                "        \"or\": [\n",
                "          {\n",
                "            \"entityType\": \"AtlasGlossaryTerm\"\n",
                "          },\n",
                "          {\n",
                "            \"entityType\": \"AtlasGlossary\"\n",
                "          }\n",
                "        ]\n",
                "      }\n",
                "    }\n",
                "  ]\n",
                "}\n",
                "'''\n",
                "\n",
                "filter_bg_only_json_str = '''\n",
                "{\n",
                "  \"and\": [\n",
                "    {\n",
                "      \"not\": {\n",
                "        \"or\": [\n",
                "          {\n",
                "            \"attributeName\": \"size\",\n",
                "            \"operator\": \"eq\",\n",
                "            \"attributeValue\": 0\n",
                "          },\n",
                "          {\n",
                "            \"attributeName\": \"fileSize\",\n",
                "            \"operator\": \"eq\",\n",
                "            \"attributeValue\": 0\n",
                "          }\n",
                "        ]\n",
                "      }\n",
                "    },\n",
                "    {\n",
                "      \"not\": {\n",
                "        \"classification\": \"MICROSOFT.SYSTEM.TEMP_FILE\"\n",
                "      }\n",
                "    },\n",
                "    {\n",
                "        \"or\": [\n",
                "            {\n",
                "                \"entityType\": \"AtlasGlossaryTerm\"\n",
                "            },\n",
                "            {\n",
                "                \"entityType\": \"AtlasGlossary\"\n",
                "            }\n",
                "        ]\n",
                "    }\n",
                "  ]\n",
                "}\n",
                "'''\n",
                "\n",
                "\n",
                "#facets to be returned\n",
                "facet_json_str = '''\n",
                "[{\n",
                "    \"facet\": \"assetType\",\n",
                "    \"count\": 0,\n",
                "    \"sort\": {\n",
                "        \"count\": \"desc\"\n",
                "    }\n",
                "}, {\n",
                "    \"facet\": \"classification\",\n",
                "    \"count\": 10,\n",
                "    \"sort\": {\n",
                "        \"count\": \"desc\"\n",
                "    }\n",
                "}, {\n",
                "    \"facet\": \"contactId\",\n",
                "    \"count\": 10,\n",
                "    \"sort\": {\n",
                "        \"count\": \"desc\"\n",
                "    }\n",
                "}, {\n",
                "    \"facet\": \"label\",\n",
                "    \"count\": 10,\n",
                "    \"sort\": {\n",
                "        \"count\": \"desc\"\n",
                "    }\n",
                "}, {\n",
                "    \"facet\": \"term\",\n",
                "    \"count\": 10,\n",
                "    \"sort\": {\n",
                "        \"count\": \"desc\"\n",
                "    }\n",
                "}, {\n",
                "    \"facet\": \"classificationCategory\",\n",
                "    \"count\": 0,\n",
                "    \"sort\": {\n",
                "        \"count\": \"desc\"\n",
                "    }\n",
                "}, {\n",
                "    \"facet\": \"fileExtension\",\n",
                "    \"count\": 0,\n",
                "    \"sort\": {\n",
                "        \"count\": \"desc\"\n",
                "    }\n",
                "}]\n",
                "'''\n",
                "#Certification attributes\n",
                "certified_json_str = '''\n",
                "\"attributes\": {\n",
                "    \"endorsement\": \"Certified\",\n",
                "    \"certifiedBy\": \"{}\"\n",
                "}\n",
                "'''\n",
                "\n",
                "#CAN BE LEFT AS DEFAULTS\n",
                "#folder for creating temporary files. will be removed and re-created with each run\n",
                "ephemeral_folder = 'ephemeral'\n",
                "\n",
                "#default file names\n",
                "asset_export_file_name_template = '{0}_purview_assets.csv'\n",
                "asset_detail_export_file_name_template = '{0}_details_purview_assets.csv'\n",
                "filter_file_name = 'filter.json'\n",
                "filter_bg_only_file_name = 'filter_bg_only.json'\n",
                "facet_file_name = 'facet.json'\n",
                "\n",
                "#folder to create all json payloads\n",
                "update_paylod_folder_name_template = '{0}_updates'\n",
                "\n",
                "#separator character \n",
                "separator_char ='|'\n",
                "\n",
                "#asset types do do nested table scan\n",
                "nested_table_asset_entity_types = ['powerbi_dataset']"
            ]
        },
        {
            "attachments": {},
            "cell_type": "markdown",
            "metadata": {
                "azdata_cell_guid": "4981df3a-53a3-4f77-9916-072f9bbe6b34"
            },
            "source": [
                "**Setup working folders, filters and facets**"
            ]
        },
        {
            "cell_type": "code",
            "execution_count": 26,
            "metadata": {
                "azdata_cell_guid": "c0ff89f4-a213-482b-b8cc-651c84fa27f3",
                "language": "python",
                "tags": []
            },
            "outputs": [],
            "source": [
                "ephemeral_full_path = os.path.join(root_working_folder, ephemeral_folder)\n",
                "if os.path.exists(ephemeral_full_path):\n",
                "    shutil.rmtree(ephemeral_full_path, ignore_errors=False)\n",
                "\n",
                "os.mkdir(ephemeral_full_path)\n",
                "\n",
                "filter_json_full_path = os.path.join(ephemeral_full_path, filter_file_name)\n",
                "facet_json_full_path = os.path.join(ephemeral_full_path, facet_file_name)\n",
                "filter_bg_only_json_full_path = os.path.join(ephemeral_full_path, filter_bg_only_file_name)\n",
                "\n",
                "\n",
                "file = open(filter_json_full_path, \"w\") \n",
                "file.writelines(filter_json_str) \n",
                "file.close() \n",
                "\n",
                "file = open(facet_json_full_path, \"w\") \n",
                "file.writelines(facet_json_str) \n",
                "file.close() \n",
                "\n",
                "file = open(filter_bg_only_json_full_path, \"w\") \n",
                "file.writelines(filter_bg_only_json_str) \n",
                "file.close() "
            ]
        },
        {
            "cell_type": "code",
            "execution_count": 27,
            "metadata": {
                "azdata_cell_guid": "c6b0837e-d649-44ce-b019-8475c16f6bcb",
                "language": "python"
            },
            "outputs": [],
            "source": [
                "def coalesce(iterable):\n",
                "    for el in iterable:\n",
                "        if el is not None:\n",
                "            return el\n",
                "    return None"
            ]
        },
        {
            "cell_type": "code",
            "execution_count": 28,
            "metadata": {
                "azdata_cell_guid": "5596d452-33cf-4ae6-a4d3-183610ee4e96",
                "language": "python",
                "tags": []
            },
            "outputs": [],
            "source": [
                "#Will be hydrated later\n",
                "purviewTermsDF = pd.DataFrame(columns = ['name', 'qualifiedName', 'entityType', 'id'])"
            ]
        },
        {
            "cell_type": "code",
            "execution_count": 29,
            "metadata": {
                "azdata_cell_guid": "94742d5e-5104-4df8-acf4-1e990d415130",
                "language": "python"
            },
            "outputs": [],
            "source": [
                "def guidToFormalName(guidList):\n",
                "    global purviewTermsDF\n",
                "    result = []\n",
                "    matched_rows = purviewTermsDF.loc[purviewTermsDF['id'].isin(guidList)]\n",
                "    result.extend(matched_rows['qualifiedName'])\n",
                "\n",
                "    return result"
            ]
        },
        {
            "cell_type": "code",
            "execution_count": 30,
            "metadata": {
                "azdata_cell_guid": "bfd13cda-1818-436b-b773-8da531fa339d",
                "language": "python",
                "tags": []
            },
            "outputs": [],
            "source": [
                "def formalNameToGuid(formalName):\n",
                "    global purviewTermsDF\n",
                "    result =''\n",
                "    matched_rows = purviewTermsDF.loc[purviewTermsDF['qualifiedName']==formalName]\n",
                "    if len(matched_rows)==1:\n",
                "        result = matched_rows.iloc[0]['id']\n",
                "    \n",
                "    return result"
            ]
        },
        {
            "cell_type": "code",
            "execution_count": 31,
            "metadata": {
                "azdata_cell_guid": "220034b8-f407-4e84-9067-80effede1d24",
                "language": "python",
                "tags": []
            },
            "outputs": [],
            "source": [
                "def listToDataframe(listOfAssets):\n",
                "    df = pd.DataFrame(columns = ['name', 'qualifiedName', 'entityType','id'])\n",
                "\n",
                "    for ent in listOfAssets:\n",
                "\n",
                "        if 'entityType' not in ent:\n",
                "            ent['entityType']=np.nan      \n",
                "\n",
                "        asset_row = {'name':ent['name']\n",
                "        ,'qualifiedName':ent['qualifiedName']\n",
                "        ,'entityType':ent['entityType']\n",
                "        ,'id':ent['id']}\n",
                "        df = pd.concat([df, pd.DataFrame([asset_row])], ignore_index=True)\n",
                "\n",
                "    return df"
            ]
        },
        {
            "cell_type": "code",
            "execution_count": 32,
            "metadata": {
                "azdata_cell_guid": "fce508ec-ffc2-4659-8ace-54473fc1fbe1",
                "language": "python"
            },
            "outputs": [],
            "source": [
                "def searchPurview(keyword, filter_file, batch_size = 100, recursive_read = False):\n",
                "    offset = 0\n",
                "    all_items = []\n",
                "    this_read_count = -1\n",
                "\n",
                "    while ((this_read_count == -1) or (this_read_count>0) and recursive_read == True):\n",
                "        search_output = !pv search query --keywords \"{keyword}\" --limit {batch_size} --offset {offset} --filterFile  {filter_file} --facets-file {facet_json_full_path}\n",
                "        search_json = json.loads(''.join(search_output))\n",
                "        assets_this_read = search_json['value']\n",
                "        this_read_count = len(assets_this_read)\n",
                "        all_items.extend(assets_this_read)\n",
                "        offset += this_read_count\n",
                "    \n",
                "    return all_items"
            ]
        },
        {
            "cell_type": "code",
            "execution_count": 33,
            "metadata": {
                "azdata_cell_guid": "e5a47165-bea1-4759-9f63-7741a3aa8192",
                "language": "python"
            },
            "outputs": [],
            "source": [
                "def unpackNestedTables(dfEntities):\n",
                "    columns_list = dfEntities.columns\n",
                "    dfAssetsUnpacked = pd.DataFrame(columns = columns_list)\n",
                "\n",
                "    for index, row in dfEntities.iterrows():\n",
                "        dfAssetsUnpacked = pd.concat([dfAssetsUnpacked, pd.DataFrame([row])], ignore_index=True) #add current row\n",
                "        \n",
                "        #check if this assets belongs to a list entity types that have nested tables. For example Power BI Dataset\n",
                "        thisAssetEntityType = dfEntities.loc[index]['entityType']\n",
                "        if thisAssetEntityType not in nested_table_asset_entity_types:\n",
                "            continue;\n",
                "\n",
                "        #check to see if asset has nested tables\n",
                "        thisAssetId = dfEntities.loc[index]['id']\n",
                "\n",
                "        bulk_output = !pv entity readBulk --guid {thisAssetId}\n",
                "        bulk_json = json.loads(''.join(bulk_output))\n",
                "        if len(bulk_json['entities'])!=1:\n",
                "            continue;\n",
                "\n",
                "        thisAtlasObject =  bulk_json['entities'][0]\n",
                "        if 'relationshipAttributes' in thisAtlasObject:\n",
                "            thisRelAtt = thisAtlasObject['relationshipAttributes']\n",
                "            if 'tables' in thisRelAtt:\n",
                "                thisEntityTables = thisRelAtt['tables']\n",
                "                #read all tables and a row in dataframe\n",
                "               \n",
                "                for aTbl in thisEntityTables: \n",
                "                    tblGuid = aTbl['guid']\n",
                "                    tbl_output = !pv entity readBulk --guid {tblGuid}\n",
                "                    tbl_json = json.loads(''.join(tbl_output))\n",
                "                    if len(tbl_json['entities'])!=1:\n",
                "                        continue;\n",
                "                    \n",
                "                    thisNestedTbl = tbl_json['entities'][0]\n",
                "                    if 'attributes' in thisNestedTbl:\n",
                "                        thisNestedAtt = thisNestedTbl['attributes']\n",
                "\n",
                "                        thisTblId = thisNestedTbl['guid']\n",
                "                        thisEntityType = thisNestedTbl['typeName']\n",
                "                        thisTblName = thisNestedAtt['name']\n",
                "                        thisTblQualifiedName = thisNestedAtt['qualifiedName']\n",
                "                        \n",
                "                        #add nested tables where applicable\n",
                "                        asset_row = {\n",
                "                        'name':thisTblName\n",
                "                        ,'qualifiedName':thisTblQualifiedName\n",
                "                        ,'entityType':thisEntityType\n",
                "                        ,'id':thisTblId}\n",
                "\n",
                "                        dfAssetsUnpacked = pd.concat([dfAssetsUnpacked, pd.DataFrame([asset_row])], ignore_index=True)\n",
                "\n",
                "\n",
                "    return dfAssetsUnpacked"
            ]
        },
        {
            "cell_type": "code",
            "execution_count": 34,
            "metadata": {
                "azdata_cell_guid": "d09ae2a3-aeae-4029-9491-1519665c3501",
                "language": "python",
                "tags": []
            },
            "outputs": [],
            "source": [
                "def searchPurviewAssets(keyword, batch_size = 50, recursive_read = False):\n",
                "    result = searchPurview(keyword, filter_json_full_path, batch_size, recursive_read)\n",
                "    dfSearchResult = listToDataframe(result)\n",
                "    \n",
                "    dfSearchResult = unpackNestedTables(dfSearchResult)\n",
                "    return len(dfSearchResult), dfSearchResult"
            ]
        },
        {
            "cell_type": "code",
            "execution_count": 35,
            "metadata": {
                "azdata_cell_guid": "01fbde8d-c100-43c2-a039-268f9767a956",
                "language": "python"
            },
            "outputs": [],
            "source": [
                "def searchGlossaryTerms(keyword, batch_size = 50, recursive_read = False):\n",
                "    result = searchPurview(keyword, filter_bg_only_json_full_path, batch_size, recursive_read)\n",
                "    dfSearchResult = listToDataframe(result)\n",
                "    return len(dfSearchResult), dfSearchResult"
            ]
        },
        {
            "cell_type": "code",
            "execution_count": 36,
            "metadata": {
                "azdata_cell_guid": "0d80be09-70f1-4288-816d-36d7d8c479f4",
                "language": "python"
            },
            "outputs": [],
            "source": [
                "def getColumnStructure(atlasEntity):\n",
                "    cols = None\n",
                "    refEnt = None\n",
                "\n",
                "    thisAsset = atlasEntity['entities'][0]\n",
                "    if 'relationshipAttributes' not in thisAsset:\n",
                "        return cols, refEnt\n",
                "\n",
                "    if 'referredEntities' in atlasEntity:\n",
                "        refEnt = atlasEntity['referredEntities']\n",
                "\n",
                "    if 'columns' in thisAsset['relationshipAttributes']:\n",
                "        cols = thisAsset['relationshipAttributes']['columns']   \n",
                "    elif 'table_columns' in thisAsset['relationshipAttributes']: #snowflake\n",
                "        cols = thisAsset['relationshipAttributes']['table_columns']\n",
                "    elif 'view_columns' in thisAsset['relationshipAttributes']: #oracle\n",
                "        cols = thisAsset['relationshipAttributes']['view_columns']  \n",
                "    elif 'fields' in thisAsset['relationshipAttributes']: #salesforce\n",
                "        cols = thisAsset['relationshipAttributes']['fields']   \n",
                "    else:\n",
                "        schGuid = None\n",
                "\n",
                "        if 'attachedSchema' in thisAsset['relationshipAttributes']:\n",
                "            attSch = thisAsset['relationshipAttributes']['attachedSchema']\n",
                "            if len(attSch)>0:\n",
                "                schGuid = attSch[0]['guid']\n",
                "\n",
                "        if 'tabular_schema' in thisAsset['relationshipAttributes']:\n",
                "            tabSch = thisAsset['relationshipAttributes']['tabular_schema']\n",
                "            if len(tabSch)>0:\n",
                "                schGuid = tabSch['guid']\n",
                "        \n",
                "        if schGuid!=None:\n",
                "            schema_output = !pv entity readBulk --guid {schGuid}\n",
                "            schema_json = json.loads(''.join(schema_output))\n",
                "            return getColumnStructure(schema_json) \n",
                "    \n",
                "    return cols, refEnt\n",
                "    "
            ]
        },
        {
            "cell_type": "code",
            "execution_count": 37,
            "metadata": {
                "azdata_cell_guid": "6fc6ac40-f5f1-4e8e-a179-0b398cc78367",
                "language": "python"
            },
            "outputs": [],
            "source": [
                "def extractAssetRowFromEntity(entJson):\n",
                "    ent = entJson['entities'][0]\n",
                "    att = ent['attributes']\n",
                "    assetId = ent['guid'] \n",
                "    assetName = att['name'] \n",
                "    assetQualifiedName = att['qualifiedName']\n",
                "    assetDescription = coalesce([ att['userDescription'], att['description'] ])\n",
                "    assetEntityType = ent['typeName']\n",
                "    assetCertifiedBy = None\n",
                "\n",
                "    if 'meanings' in ent:\n",
                "        termGuidList = [itm['guid'] for itm in ent['meanings']]\n",
                "        termFormalNameList = guidToFormalName(termGuidList)\n",
                "    else:\n",
                "        termFormalNameList = []\n",
                "\n",
                "    assetTerms = separator_char.join(term for term in termFormalNameList)\n",
                "    \n",
                "    if 'classifications' in ent:\n",
                "        for cItem in  ent['classifications']:\n",
                "            if cItem['typeName']==\"MICROSOFT.POWERBI.ENDORSEMENT\":\n",
                "                if 'attributes' in cItem and 'certifiedBy' in cItem['attributes']:\n",
                "                    assetCertifiedBy = cItem['attributes']['certifiedBy']\n",
                "        assetClassification = separator_char.join(cItem['typeName'] for cItem in  ent['classifications'])\n",
                "    else:\n",
                "        assetClassification = None\n",
                "\n",
                "    asset_row = {\n",
                "    'name':assetName\n",
                "    ,'qualifiedName':assetQualifiedName\n",
                "    ,'classification':assetClassification\n",
                "    ,'term':assetTerms\n",
                "    ,'description':assetDescription\n",
                "    ,'entityType':assetEntityType\n",
                "    ,'id':assetId\n",
                "    ,'certifiedBy':assetCertifiedBy}\n",
                "\n",
                "    return asset_row\n",
                "\n",
                "\n"
            ]
        },
        {
            "cell_type": "code",
            "execution_count": 38,
            "metadata": {
                "azdata_cell_guid": "7ffacfe3-fb91-4f24-9fed-f993dabb0047",
                "language": "python"
            },
            "outputs": [],
            "source": [
                "purviewTermsCount, purviewTermsDF = searchGlossaryTerms('*', recursive_read=True)"
            ]
        },
        {
            "cell_type": "code",
            "execution_count": 39,
            "metadata": {
                "azdata_cell_guid": "19975abd-6d06-4ea0-bb81-0047a810cd1e",
                "language": "python"
            },
            "outputs": [],
            "source": [
                "print('Setup is complete!')"
            ]
        }
    ],
    "metadata": {
        "extensions": {
            "azuredatastudio": {
                "version": 1,
                "views": []
            }
        },
        "kernelspec": {
            "display_name": "Python 3 (ipykernel)",
            "language": "python",
            "name": "python3"
        },
        "language_info": {
            "codemirror_mode": {
                "name": "ipython",
                "version": 3
            },
            "file_extension": ".py",
            "mimetype": "text/x-python",
            "name": "python",
            "nbconvert_exporter": "python",
            "pygments_lexer": "ipython3",
            "version": "3.9.0"
        }
    },
    "nbformat": 4,
    "nbformat_minor": 2
}
